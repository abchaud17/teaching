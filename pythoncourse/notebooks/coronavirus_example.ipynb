{
 "cells": [
  {
   "cell_type": "markdown",
   "metadata": {},
   "source": [
    "# Using Python to analyse data on the coronavirus\n",
    "\n",
    "Saeed Amen - https://www.cuemacro.com - saeed@cuemacro.com"
   ]
  },
  {
   "cell_type": "markdown",
   "metadata": {},
   "source": [
    "First of all I want to stress that I am not a medic. However, I am a quant, and as such I wanted to see if there are simple ways I could look at the data related to the coronavirus. In particular, I'm doing some very simple plots and analysis, but I hope you find this code useful in any case (and feel free to copy and reuse). Our data source is one compiled by John Hopkins, which they've made available on GitHub at https://github.com/CSSEGISandData/COVID-19 and is being updated daily. This dataset drives a lot of analysis that has been published on the coronavirus. "
   ]
  },
  {
   "cell_type": "markdown",
   "metadata": {},
   "source": [
    "I've tried to stick to libraries which are relatively common like Pandas and like part of the standard Anaconda installation. If you want to use these notebooks in an easy to use way, I would recommend loading them on Azure Notebooks (http://notebooks.azure.com) which has a free version), and you can rerun as new data is released. If you want to setup your Python environment similar to mine follow the instructions at https://github.com/cuemacro/teaching/blob/master/pythoncourse/installation/installing_anaconda_and_pycharm.ipynb - this will pretty much install all the libraries you'll ever need for data science."
   ]
  },
  {
   "cell_type": "markdown",
   "metadata": {},
   "source": [
    "## Loading the data\n",
    "\n",
    "We shall be looking at several CSV from the GitHub site which have time series number of confirmed cases, deaths and recovery cases related to COVID-19, and these are updated on a regular basis. Note, we are getting the raw content from these GitHub pages."
   ]
  },
  {
   "cell_type": "code",
   "execution_count": 1,
   "metadata": {
    "ExecuteTime": {
     "end_time": "2020-03-28T15:42:41.316511Z",
     "start_time": "2020-03-28T15:42:41.312608Z"
    }
   },
   "outputs": [],
   "source": [
    "# Recently changed path\n",
    "confirmed_path = 'https://raw.githubusercontent.com/CSSEGISandData/COVID-19/master/csse_covid_19_data/csse_covid_19_time_series/time_series_covid19_confirmed_global.csv'\n",
    "deaths_path = 'https://raw.githubusercontent.com/CSSEGISandData/COVID-19/master/csse_covid_19_data/csse_covid_19_time_series/time_series_covid19_deaths_global.csv'\n",
    "\n",
    "# Note the recovered dataset is no longer being recovered\n",
    "recovered_path = 'https://raw.githubusercontent.com/CSSEGISandData/COVID-19/master/csse_covid_19_data/csse_covid_19_time_series/time_series_19-covid-Recovered.csv'"
   ]
  },
  {
   "cell_type": "markdown",
   "metadata": {},
   "source": [
    "We'll also want to download some population data too from OECD, which has this path."
   ]
  },
  {
   "cell_type": "code",
   "execution_count": 2,
   "metadata": {
    "ExecuteTime": {
     "end_time": "2020-03-28T15:42:41.325296Z",
     "start_time": "2020-03-28T15:42:41.317487Z"
    }
   },
   "outputs": [],
   "source": [
    "oecd_path = \"https://stats.oecd.org/sdmx-json/data/DP_LIVE/.POP.../OECD?contentType=csv&detail=code&separator=comma&csv-lang=en\""
   ]
  },
  {
   "cell_type": "markdown",
   "metadata": {},
   "source": [
    "Let's do some imports of libraries and creation of objects we'll need to use later."
   ]
  },
  {
   "cell_type": "code",
   "execution_count": 3,
   "metadata": {
    "ExecuteTime": {
     "end_time": "2020-03-28T15:42:42.037212Z",
     "start_time": "2020-03-28T15:42:41.327248Z"
    }
   },
   "outputs": [],
   "source": [
    "import pandas as pd\n",
    "\n",
    "%matplotlib inline"
   ]
  },
  {
   "cell_type": "markdown",
   "metadata": {},
   "source": [
    "Let's check my version of pandas. Mine is 0.24.2, but this notebook will likely work with other versions too."
   ]
  },
  {
   "cell_type": "code",
   "execution_count": 4,
   "metadata": {
    "ExecuteTime": {
     "end_time": "2020-03-28T15:42:42.045020Z",
     "start_time": "2020-03-28T15:42:42.038188Z"
    }
   },
   "outputs": [
    {
     "data": {
      "text/plain": [
       "'0.24.2'"
      ]
     },
     "execution_count": 4,
     "metadata": {},
     "output_type": "execute_result"
    }
   ],
   "source": [
    "pd.__version__"
   ]
  },
  {
   "cell_type": "markdown",
   "metadata": {},
   "source": [
    "Let's load up all the datasets"
   ]
  },
  {
   "cell_type": "code",
   "execution_count": 5,
   "metadata": {
    "ExecuteTime": {
     "end_time": "2020-03-28T15:42:42.646369Z",
     "start_time": "2020-03-28T15:42:42.045995Z"
    }
   },
   "outputs": [],
   "source": [
    "df_confirmed = pd.read_csv(confirmed_path)\n",
    "df_deaths = pd.read_csv(deaths_path)\n",
    "# df_recovered = pd.read_csv(recovered_path) # Note: recovered dataset is not updated, so omitting"
   ]
  },
  {
   "cell_type": "markdown",
   "metadata": {},
   "source": [
    "Check the format up of the downloaded data for the confirmed case."
   ]
  },
  {
   "cell_type": "code",
   "execution_count": 6,
   "metadata": {
    "ExecuteTime": {
     "end_time": "2020-03-28T15:42:42.665558Z",
     "start_time": "2020-03-28T15:42:42.647345Z"
    }
   },
   "outputs": [
    {
     "data": {
      "text/html": [
       "<div>\n",
       "<style scoped>\n",
       "    .dataframe tbody tr th:only-of-type {\n",
       "        vertical-align: middle;\n",
       "    }\n",
       "\n",
       "    .dataframe tbody tr th {\n",
       "        vertical-align: top;\n",
       "    }\n",
       "\n",
       "    .dataframe thead th {\n",
       "        text-align: right;\n",
       "    }\n",
       "</style>\n",
       "<table border=\"1\" class=\"dataframe\">\n",
       "  <thead>\n",
       "    <tr style=\"text-align: right;\">\n",
       "      <th></th>\n",
       "      <th>Province/State</th>\n",
       "      <th>Country/Region</th>\n",
       "      <th>Lat</th>\n",
       "      <th>Long</th>\n",
       "      <th>1/22/20</th>\n",
       "      <th>1/23/20</th>\n",
       "      <th>1/24/20</th>\n",
       "      <th>1/25/20</th>\n",
       "      <th>1/26/20</th>\n",
       "      <th>1/27/20</th>\n",
       "      <th>...</th>\n",
       "      <th>3/18/20</th>\n",
       "      <th>3/19/20</th>\n",
       "      <th>3/20/20</th>\n",
       "      <th>3/21/20</th>\n",
       "      <th>3/22/20</th>\n",
       "      <th>3/23/20</th>\n",
       "      <th>3/24/20</th>\n",
       "      <th>3/25/20</th>\n",
       "      <th>3/26/20</th>\n",
       "      <th>3/27/20</th>\n",
       "    </tr>\n",
       "  </thead>\n",
       "  <tbody>\n",
       "    <tr>\n",
       "      <th>0</th>\n",
       "      <td>NaN</td>\n",
       "      <td>Afghanistan</td>\n",
       "      <td>33.0000</td>\n",
       "      <td>65.0000</td>\n",
       "      <td>0</td>\n",
       "      <td>0</td>\n",
       "      <td>0</td>\n",
       "      <td>0</td>\n",
       "      <td>0</td>\n",
       "      <td>0</td>\n",
       "      <td>...</td>\n",
       "      <td>22</td>\n",
       "      <td>22</td>\n",
       "      <td>24</td>\n",
       "      <td>24</td>\n",
       "      <td>40</td>\n",
       "      <td>40</td>\n",
       "      <td>74</td>\n",
       "      <td>84</td>\n",
       "      <td>94</td>\n",
       "      <td>110</td>\n",
       "    </tr>\n",
       "    <tr>\n",
       "      <th>1</th>\n",
       "      <td>NaN</td>\n",
       "      <td>Albania</td>\n",
       "      <td>41.1533</td>\n",
       "      <td>20.1683</td>\n",
       "      <td>0</td>\n",
       "      <td>0</td>\n",
       "      <td>0</td>\n",
       "      <td>0</td>\n",
       "      <td>0</td>\n",
       "      <td>0</td>\n",
       "      <td>...</td>\n",
       "      <td>59</td>\n",
       "      <td>64</td>\n",
       "      <td>70</td>\n",
       "      <td>76</td>\n",
       "      <td>89</td>\n",
       "      <td>104</td>\n",
       "      <td>123</td>\n",
       "      <td>146</td>\n",
       "      <td>174</td>\n",
       "      <td>186</td>\n",
       "    </tr>\n",
       "    <tr>\n",
       "      <th>2</th>\n",
       "      <td>NaN</td>\n",
       "      <td>Algeria</td>\n",
       "      <td>28.0339</td>\n",
       "      <td>1.6596</td>\n",
       "      <td>0</td>\n",
       "      <td>0</td>\n",
       "      <td>0</td>\n",
       "      <td>0</td>\n",
       "      <td>0</td>\n",
       "      <td>0</td>\n",
       "      <td>...</td>\n",
       "      <td>74</td>\n",
       "      <td>87</td>\n",
       "      <td>90</td>\n",
       "      <td>139</td>\n",
       "      <td>201</td>\n",
       "      <td>230</td>\n",
       "      <td>264</td>\n",
       "      <td>302</td>\n",
       "      <td>367</td>\n",
       "      <td>409</td>\n",
       "    </tr>\n",
       "    <tr>\n",
       "      <th>3</th>\n",
       "      <td>NaN</td>\n",
       "      <td>Andorra</td>\n",
       "      <td>42.5063</td>\n",
       "      <td>1.5218</td>\n",
       "      <td>0</td>\n",
       "      <td>0</td>\n",
       "      <td>0</td>\n",
       "      <td>0</td>\n",
       "      <td>0</td>\n",
       "      <td>0</td>\n",
       "      <td>...</td>\n",
       "      <td>39</td>\n",
       "      <td>53</td>\n",
       "      <td>75</td>\n",
       "      <td>88</td>\n",
       "      <td>113</td>\n",
       "      <td>133</td>\n",
       "      <td>164</td>\n",
       "      <td>188</td>\n",
       "      <td>224</td>\n",
       "      <td>267</td>\n",
       "    </tr>\n",
       "    <tr>\n",
       "      <th>4</th>\n",
       "      <td>NaN</td>\n",
       "      <td>Angola</td>\n",
       "      <td>-11.2027</td>\n",
       "      <td>17.8739</td>\n",
       "      <td>0</td>\n",
       "      <td>0</td>\n",
       "      <td>0</td>\n",
       "      <td>0</td>\n",
       "      <td>0</td>\n",
       "      <td>0</td>\n",
       "      <td>...</td>\n",
       "      <td>0</td>\n",
       "      <td>0</td>\n",
       "      <td>1</td>\n",
       "      <td>2</td>\n",
       "      <td>2</td>\n",
       "      <td>3</td>\n",
       "      <td>3</td>\n",
       "      <td>3</td>\n",
       "      <td>4</td>\n",
       "      <td>4</td>\n",
       "    </tr>\n",
       "  </tbody>\n",
       "</table>\n",
       "<p>5 rows × 70 columns</p>\n",
       "</div>"
      ],
      "text/plain": [
       "  Province/State Country/Region      Lat     Long  1/22/20  1/23/20  1/24/20  \\\n",
       "0            NaN    Afghanistan  33.0000  65.0000        0        0        0   \n",
       "1            NaN        Albania  41.1533  20.1683        0        0        0   \n",
       "2            NaN        Algeria  28.0339   1.6596        0        0        0   \n",
       "3            NaN        Andorra  42.5063   1.5218        0        0        0   \n",
       "4            NaN         Angola -11.2027  17.8739        0        0        0   \n",
       "\n",
       "   1/25/20  1/26/20  1/27/20  ...  3/18/20  3/19/20  3/20/20  3/21/20  \\\n",
       "0        0        0        0  ...       22       22       24       24   \n",
       "1        0        0        0  ...       59       64       70       76   \n",
       "2        0        0        0  ...       74       87       90      139   \n",
       "3        0        0        0  ...       39       53       75       88   \n",
       "4        0        0        0  ...        0        0        1        2   \n",
       "\n",
       "   3/22/20  3/23/20  3/24/20  3/25/20  3/26/20  3/27/20  \n",
       "0       40       40       74       84       94      110  \n",
       "1       89      104      123      146      174      186  \n",
       "2      201      230      264      302      367      409  \n",
       "3      113      133      164      188      224      267  \n",
       "4        2        3        3        3        4        4  \n",
       "\n",
       "[5 rows x 70 columns]"
      ]
     },
     "execution_count": 6,
     "metadata": {},
     "output_type": "execute_result"
    }
   ],
   "source": [
    "df_confirmed.head(5)"
   ]
  },
  {
   "cell_type": "markdown",
   "metadata": {},
   "source": [
    "We'll write a function to make the data easier to work with, transposing the dataset and making the date the index of our dataframe. We also add labels to the columns."
   ]
  },
  {
   "cell_type": "code",
   "execution_count": 7,
   "metadata": {
    "ExecuteTime": {
     "end_time": "2020-03-28T15:42:42.673366Z",
     "start_time": "2020-03-28T15:42:42.666535Z"
    }
   },
   "outputs": [],
   "source": [
    "def aggregate_format_dataframe(df, label):\n",
    "    # Replace some country labels to make them consistent for use later\n",
    "    df['Country/Region'] = df['Country/Region'].replace('US', 'United States')\n",
    "    df['Country/Region'] = df['Country/Region'].replace('Taiwan*', 'Taiwan')\n",
    "    \n",
    "    # Aggregate the figures by Country\n",
    "    df = df.groupby(['Country/Region']).sum()\n",
    "    \n",
    "    df = df.transpose()\n",
    "    \n",
    "    # Strip first two lines (which has Lat/Long data)\n",
    "    df = df[2:] \n",
    "    \n",
    "    \n",
    "    df.index = pd.to_datetime(df.index)\n",
    "    df.index.name = 'Date'\n",
    "    original_columns = df.columns\n",
    "    df.columns = [x + ' ' + label for x in df.columns]\n",
    "    \n",
    "    return df, original_columns"
   ]
  },
  {
   "cell_type": "markdown",
   "metadata": {},
   "source": [
    "Let's run that function on our datasets."
   ]
  },
  {
   "cell_type": "code",
   "execution_count": 8,
   "metadata": {
    "ExecuteTime": {
     "end_time": "2020-03-28T15:42:42.700967Z",
     "start_time": "2020-03-28T15:42:42.675318Z"
    }
   },
   "outputs": [],
   "source": [
    "df_confirmed_agg, confirmed_countries = aggregate_format_dataframe(df_confirmed, 'confirmed')\n",
    "df_deaths_agg, deaths_countries = aggregate_format_dataframe(df_deaths, 'deaths')\n",
    "\n",
    "# Note: recovered dataset is not updated so omitting\n",
    "# df_recovered_agg, recovered_countries = aggregate_format_dataframe(df_recovered, 'recovered') \n",
    "\n",
    "countries = confirmed_countries"
   ]
  },
  {
   "cell_type": "markdown",
   "metadata": {},
   "source": [
    "We can now see that dataset is in an easier to use format."
   ]
  },
  {
   "cell_type": "code",
   "execution_count": 9,
   "metadata": {
    "ExecuteTime": {
     "end_time": "2020-03-28T15:42:42.722012Z",
     "start_time": "2020-03-28T15:42:42.701942Z"
    }
   },
   "outputs": [
    {
     "data": {
      "text/html": [
       "<div>\n",
       "<style scoped>\n",
       "    .dataframe tbody tr th:only-of-type {\n",
       "        vertical-align: middle;\n",
       "    }\n",
       "\n",
       "    .dataframe tbody tr th {\n",
       "        vertical-align: top;\n",
       "    }\n",
       "\n",
       "    .dataframe thead th {\n",
       "        text-align: right;\n",
       "    }\n",
       "</style>\n",
       "<table border=\"1\" class=\"dataframe\">\n",
       "  <thead>\n",
       "    <tr style=\"text-align: right;\">\n",
       "      <th></th>\n",
       "      <th>Afghanistan confirmed</th>\n",
       "      <th>Albania confirmed</th>\n",
       "      <th>Algeria confirmed</th>\n",
       "      <th>Andorra confirmed</th>\n",
       "      <th>Angola confirmed</th>\n",
       "      <th>Antigua and Barbuda confirmed</th>\n",
       "      <th>Argentina confirmed</th>\n",
       "      <th>Armenia confirmed</th>\n",
       "      <th>Australia confirmed</th>\n",
       "      <th>Austria confirmed</th>\n",
       "      <th>...</th>\n",
       "      <th>United Arab Emirates confirmed</th>\n",
       "      <th>United Kingdom confirmed</th>\n",
       "      <th>United States confirmed</th>\n",
       "      <th>Uruguay confirmed</th>\n",
       "      <th>Uzbekistan confirmed</th>\n",
       "      <th>Venezuela confirmed</th>\n",
       "      <th>Vietnam confirmed</th>\n",
       "      <th>West Bank and Gaza confirmed</th>\n",
       "      <th>Zambia confirmed</th>\n",
       "      <th>Zimbabwe confirmed</th>\n",
       "    </tr>\n",
       "    <tr>\n",
       "      <th>Date</th>\n",
       "      <th></th>\n",
       "      <th></th>\n",
       "      <th></th>\n",
       "      <th></th>\n",
       "      <th></th>\n",
       "      <th></th>\n",
       "      <th></th>\n",
       "      <th></th>\n",
       "      <th></th>\n",
       "      <th></th>\n",
       "      <th></th>\n",
       "      <th></th>\n",
       "      <th></th>\n",
       "      <th></th>\n",
       "      <th></th>\n",
       "      <th></th>\n",
       "      <th></th>\n",
       "      <th></th>\n",
       "      <th></th>\n",
       "      <th></th>\n",
       "      <th></th>\n",
       "    </tr>\n",
       "  </thead>\n",
       "  <tbody>\n",
       "    <tr>\n",
       "      <th>2020-01-22</th>\n",
       "      <td>0.0</td>\n",
       "      <td>0.0</td>\n",
       "      <td>0.0</td>\n",
       "      <td>0.0</td>\n",
       "      <td>0.0</td>\n",
       "      <td>0.0</td>\n",
       "      <td>0.0</td>\n",
       "      <td>0.0</td>\n",
       "      <td>0.0</td>\n",
       "      <td>0.0</td>\n",
       "      <td>...</td>\n",
       "      <td>0.0</td>\n",
       "      <td>0.0</td>\n",
       "      <td>1.0</td>\n",
       "      <td>0.0</td>\n",
       "      <td>0.0</td>\n",
       "      <td>0.0</td>\n",
       "      <td>0.0</td>\n",
       "      <td>0.0</td>\n",
       "      <td>0.0</td>\n",
       "      <td>0.0</td>\n",
       "    </tr>\n",
       "    <tr>\n",
       "      <th>2020-01-23</th>\n",
       "      <td>0.0</td>\n",
       "      <td>0.0</td>\n",
       "      <td>0.0</td>\n",
       "      <td>0.0</td>\n",
       "      <td>0.0</td>\n",
       "      <td>0.0</td>\n",
       "      <td>0.0</td>\n",
       "      <td>0.0</td>\n",
       "      <td>0.0</td>\n",
       "      <td>0.0</td>\n",
       "      <td>...</td>\n",
       "      <td>0.0</td>\n",
       "      <td>0.0</td>\n",
       "      <td>1.0</td>\n",
       "      <td>0.0</td>\n",
       "      <td>0.0</td>\n",
       "      <td>0.0</td>\n",
       "      <td>2.0</td>\n",
       "      <td>0.0</td>\n",
       "      <td>0.0</td>\n",
       "      <td>0.0</td>\n",
       "    </tr>\n",
       "    <tr>\n",
       "      <th>2020-01-24</th>\n",
       "      <td>0.0</td>\n",
       "      <td>0.0</td>\n",
       "      <td>0.0</td>\n",
       "      <td>0.0</td>\n",
       "      <td>0.0</td>\n",
       "      <td>0.0</td>\n",
       "      <td>0.0</td>\n",
       "      <td>0.0</td>\n",
       "      <td>0.0</td>\n",
       "      <td>0.0</td>\n",
       "      <td>...</td>\n",
       "      <td>0.0</td>\n",
       "      <td>0.0</td>\n",
       "      <td>2.0</td>\n",
       "      <td>0.0</td>\n",
       "      <td>0.0</td>\n",
       "      <td>0.0</td>\n",
       "      <td>2.0</td>\n",
       "      <td>0.0</td>\n",
       "      <td>0.0</td>\n",
       "      <td>0.0</td>\n",
       "    </tr>\n",
       "    <tr>\n",
       "      <th>2020-01-25</th>\n",
       "      <td>0.0</td>\n",
       "      <td>0.0</td>\n",
       "      <td>0.0</td>\n",
       "      <td>0.0</td>\n",
       "      <td>0.0</td>\n",
       "      <td>0.0</td>\n",
       "      <td>0.0</td>\n",
       "      <td>0.0</td>\n",
       "      <td>0.0</td>\n",
       "      <td>0.0</td>\n",
       "      <td>...</td>\n",
       "      <td>0.0</td>\n",
       "      <td>0.0</td>\n",
       "      <td>2.0</td>\n",
       "      <td>0.0</td>\n",
       "      <td>0.0</td>\n",
       "      <td>0.0</td>\n",
       "      <td>2.0</td>\n",
       "      <td>0.0</td>\n",
       "      <td>0.0</td>\n",
       "      <td>0.0</td>\n",
       "    </tr>\n",
       "    <tr>\n",
       "      <th>2020-01-26</th>\n",
       "      <td>0.0</td>\n",
       "      <td>0.0</td>\n",
       "      <td>0.0</td>\n",
       "      <td>0.0</td>\n",
       "      <td>0.0</td>\n",
       "      <td>0.0</td>\n",
       "      <td>0.0</td>\n",
       "      <td>0.0</td>\n",
       "      <td>4.0</td>\n",
       "      <td>0.0</td>\n",
       "      <td>...</td>\n",
       "      <td>0.0</td>\n",
       "      <td>0.0</td>\n",
       "      <td>5.0</td>\n",
       "      <td>0.0</td>\n",
       "      <td>0.0</td>\n",
       "      <td>0.0</td>\n",
       "      <td>2.0</td>\n",
       "      <td>0.0</td>\n",
       "      <td>0.0</td>\n",
       "      <td>0.0</td>\n",
       "    </tr>\n",
       "  </tbody>\n",
       "</table>\n",
       "<p>5 rows × 176 columns</p>\n",
       "</div>"
      ],
      "text/plain": [
       "            Afghanistan confirmed  Albania confirmed  Algeria confirmed  \\\n",
       "Date                                                                      \n",
       "2020-01-22                    0.0                0.0                0.0   \n",
       "2020-01-23                    0.0                0.0                0.0   \n",
       "2020-01-24                    0.0                0.0                0.0   \n",
       "2020-01-25                    0.0                0.0                0.0   \n",
       "2020-01-26                    0.0                0.0                0.0   \n",
       "\n",
       "            Andorra confirmed  Angola confirmed  \\\n",
       "Date                                              \n",
       "2020-01-22                0.0               0.0   \n",
       "2020-01-23                0.0               0.0   \n",
       "2020-01-24                0.0               0.0   \n",
       "2020-01-25                0.0               0.0   \n",
       "2020-01-26                0.0               0.0   \n",
       "\n",
       "            Antigua and Barbuda confirmed  Argentina confirmed  \\\n",
       "Date                                                             \n",
       "2020-01-22                            0.0                  0.0   \n",
       "2020-01-23                            0.0                  0.0   \n",
       "2020-01-24                            0.0                  0.0   \n",
       "2020-01-25                            0.0                  0.0   \n",
       "2020-01-26                            0.0                  0.0   \n",
       "\n",
       "            Armenia confirmed  Australia confirmed  Austria confirmed  ...  \\\n",
       "Date                                                                   ...   \n",
       "2020-01-22                0.0                  0.0                0.0  ...   \n",
       "2020-01-23                0.0                  0.0                0.0  ...   \n",
       "2020-01-24                0.0                  0.0                0.0  ...   \n",
       "2020-01-25                0.0                  0.0                0.0  ...   \n",
       "2020-01-26                0.0                  4.0                0.0  ...   \n",
       "\n",
       "            United Arab Emirates confirmed  United Kingdom confirmed  \\\n",
       "Date                                                                   \n",
       "2020-01-22                             0.0                       0.0   \n",
       "2020-01-23                             0.0                       0.0   \n",
       "2020-01-24                             0.0                       0.0   \n",
       "2020-01-25                             0.0                       0.0   \n",
       "2020-01-26                             0.0                       0.0   \n",
       "\n",
       "            United States confirmed  Uruguay confirmed  Uzbekistan confirmed  \\\n",
       "Date                                                                           \n",
       "2020-01-22                      1.0                0.0                   0.0   \n",
       "2020-01-23                      1.0                0.0                   0.0   \n",
       "2020-01-24                      2.0                0.0                   0.0   \n",
       "2020-01-25                      2.0                0.0                   0.0   \n",
       "2020-01-26                      5.0                0.0                   0.0   \n",
       "\n",
       "            Venezuela confirmed  Vietnam confirmed  \\\n",
       "Date                                                 \n",
       "2020-01-22                  0.0                0.0   \n",
       "2020-01-23                  0.0                2.0   \n",
       "2020-01-24                  0.0                2.0   \n",
       "2020-01-25                  0.0                2.0   \n",
       "2020-01-26                  0.0                2.0   \n",
       "\n",
       "            West Bank and Gaza confirmed  Zambia confirmed  Zimbabwe confirmed  \n",
       "Date                                                                            \n",
       "2020-01-22                           0.0               0.0                 0.0  \n",
       "2020-01-23                           0.0               0.0                 0.0  \n",
       "2020-01-24                           0.0               0.0                 0.0  \n",
       "2020-01-25                           0.0               0.0                 0.0  \n",
       "2020-01-26                           0.0               0.0                 0.0  \n",
       "\n",
       "[5 rows x 176 columns]"
      ]
     },
     "execution_count": 9,
     "metadata": {},
     "output_type": "execute_result"
    }
   ],
   "source": [
    "df_confirmed_agg.head(5)"
   ]
  },
  {
   "cell_type": "markdown",
   "metadata": {},
   "source": [
    "## Plotting the cases data\n",
    "\n",
    "We can try plotting confirmed cases in Italy and China."
   ]
  },
  {
   "cell_type": "code",
   "execution_count": 10,
   "metadata": {
    "ExecuteTime": {
     "end_time": "2020-03-28T15:42:43.200741Z",
     "start_time": "2020-03-28T15:42:42.722988Z"
    }
   },
   "outputs": [
    {
     "data": {
      "image/png": "[encoded data removed]",
      "text/plain": [
       "<Figure size 432x288 with 1 Axes>"
      ]
     },
     "metadata": {
      "needs_background": "light"
     },
     "output_type": "display_data"
    }
   ],
   "source": [
    "ax = df_confirmed_agg[['Italy confirmed', 'China confirmed']].plot()\n",
    "ax.set_ylabel(\"Confirmed cases\");"
   ]
  },
  {
   "cell_type": "markdown",
   "metadata": {},
   "source": [
    "## Adjusting data by population\n",
    "\n",
    "Obviously, it's difficult to compare these values, because of the differences in population. Let's download that data from OECD. We'll just pick up population data for 2014, the latest year available, and we strip down the dataframe, so it only has population values. Note, that this data isn't going to change often, so we can just cache it locally as a CSV."
   ]
  },
  {
   "cell_type": "code",
   "execution_count": 11,
   "metadata": {
    "ExecuteTime": {
     "end_time": "2020-03-28T15:42:43.223838Z",
     "start_time": "2020-03-28T15:42:43.202367Z"
    }
   },
   "outputs": [],
   "source": [
    "import os\n",
    "\n",
    "oecd_local_path = 'OECD.csv'\n",
    "\n",
    "if os.path.exists(oecd_local_path):\n",
    "    oecd_pop_df = pd.read_csv(oecd_local_path)\n",
    "else:\n",
    "    oecd_pop_df = pd.read_csv(oecd_path)\n",
    "    oecd_pop_df.to_csv(oecd_local_path)\n",
    "\n",
    "oecd_pop_df = oecd_pop_df[(oecd_pop_df['TIME'] == 2013) & (oecd_pop_df['SUBJECT'] == 'TOT') \\\n",
    "                              & (oecd_pop_df['MEASURE'] == 'MLN_PER')]\n",
    "    \n",
    "oecd_pop_df = pd.DataFrame(index=oecd_pop_df['LOCATION'].values, data=oecd_pop_df['Value'].values, columns=['Population'])\n",
    "oecd_pop_df = oecd_pop_df.transpose()"
   ]
  },
  {
   "cell_type": "markdown",
   "metadata": {},
   "source": [
    "If we look at the OECD data, it contains ISO codes, rather than the country names. We want to be able to convert the codes to country names, so we join it with our coronavirus dataset from earlier."
   ]
  },
  {
   "cell_type": "code",
   "execution_count": 12,
   "metadata": {
    "ExecuteTime": {
     "end_time": "2020-03-28T15:42:43.240430Z",
     "start_time": "2020-03-28T15:42:43.224814Z"
    }
   },
   "outputs": [
    {
     "data": {
      "text/html": [
       "<div>\n",
       "<style scoped>\n",
       "    .dataframe tbody tr th:only-of-type {\n",
       "        vertical-align: middle;\n",
       "    }\n",
       "\n",
       "    .dataframe tbody tr th {\n",
       "        vertical-align: top;\n",
       "    }\n",
       "\n",
       "    .dataframe thead th {\n",
       "        text-align: right;\n",
       "    }\n",
       "</style>\n",
       "<table border=\"1\" class=\"dataframe\">\n",
       "  <thead>\n",
       "    <tr style=\"text-align: right;\">\n",
       "      <th></th>\n",
       "      <th>AUS</th>\n",
       "      <th>AUT</th>\n",
       "      <th>BEL</th>\n",
       "      <th>CAN</th>\n",
       "      <th>CZE</th>\n",
       "      <th>DNK</th>\n",
       "      <th>FIN</th>\n",
       "      <th>FRA</th>\n",
       "      <th>DEU</th>\n",
       "      <th>HUN</th>\n",
       "      <th>...</th>\n",
       "      <th>EST</th>\n",
       "      <th>ISR</th>\n",
       "      <th>RUS</th>\n",
       "      <th>SVN</th>\n",
       "      <th>CHN</th>\n",
       "      <th>IND</th>\n",
       "      <th>IDN</th>\n",
       "      <th>ZAF</th>\n",
       "      <th>EU28</th>\n",
       "      <th>OECD</th>\n",
       "    </tr>\n",
       "  </thead>\n",
       "  <tbody>\n",
       "    <tr>\n",
       "      <th>Population</th>\n",
       "      <td>23.126</td>\n",
       "      <td>8.46857</td>\n",
       "      <td>11.17844</td>\n",
       "      <td>35.154</td>\n",
       "      <td>10.51072</td>\n",
       "      <td>5.614932</td>\n",
       "      <td>5.439</td>\n",
       "      <td>63.78614</td>\n",
       "      <td>80.611</td>\n",
       "      <td>9.893</td>\n",
       "      <td>...</td>\n",
       "      <td>1.317997</td>\n",
       "      <td>8.059</td>\n",
       "      <td>143.507</td>\n",
       "      <td>2.059114</td>\n",
       "      <td>1385.567</td>\n",
       "      <td>1252.14</td>\n",
       "      <td>249.8656</td>\n",
       "      <td>53.158</td>\n",
       "      <td>506.7358</td>\n",
       "      <td>1257.114</td>\n",
       "    </tr>\n",
       "  </tbody>\n",
       "</table>\n",
       "<p>1 rows × 42 columns</p>\n",
       "</div>"
      ],
      "text/plain": [
       "               AUS      AUT       BEL     CAN       CZE       DNK    FIN  \\\n",
       "Population  23.126  8.46857  11.17844  35.154  10.51072  5.614932  5.439   \n",
       "\n",
       "                 FRA     DEU    HUN  ...       EST    ISR      RUS       SVN  \\\n",
       "Population  63.78614  80.611  9.893  ...  1.317997  8.059  143.507  2.059114   \n",
       "\n",
       "                 CHN      IND       IDN     ZAF      EU28      OECD  \n",
       "Population  1385.567  1252.14  249.8656  53.158  506.7358  1257.114  \n",
       "\n",
       "[1 rows x 42 columns]"
      ]
     },
     "execution_count": 12,
     "metadata": {},
     "output_type": "execute_result"
    }
   ],
   "source": [
    "oecd_pop_df"
   ]
  },
  {
   "cell_type": "markdown",
   "metadata": {},
   "source": [
    "Let's now get the ISO codes from the various countries. We can get these from plotly express's in built gapminder datasets. Martien Lubberink has suggested the [pycountry library](https://pypi.org/project/pycountry/) which makes the whole process of getting ISO codes from countries much easier."
   ]
  },
  {
   "cell_type": "code",
   "execution_count": 13,
   "metadata": {
    "ExecuteTime": {
     "end_time": "2020-03-28T15:42:43.931449Z",
     "start_time": "2020-03-28T15:42:43.241406Z"
    }
   },
   "outputs": [],
   "source": [
    "import plotly.express as px\n",
    "\n",
    "iso_local_path = 'iso_code.csv'\n",
    "\n",
    "if os.path.exists(iso_local_path):\n",
    "    df_iso = pd.read_csv(iso_local_path)\n",
    "else:\n",
    "    df_iso = px.data.gapminder().query(\"year==2007\")[['country', 'iso_alpha']]\n",
    "    \n",
    "    df_iso.index.name = 'code'\n",
    "\n",
    "    # Relabel countries so the names match in the coronavirus dataset\n",
    "    df_iso = df_iso.replace('Korea, Rep.', 'Korea, South')\n",
    "    df_iso = df_iso.replace('Czech Republic', 'Czechia')\n",
    "    df_iso = df_iso.replace('Slovak Republic', 'Slovakia')\n",
    "    df_iso = df_iso[df_iso['country'] != 'Korea, Dem. Rep.']\n",
    "\n",
    "    # Some countries are missing that we need to add\n",
    "    extra_countries = [(170, 'Colombia', 'COL'),\n",
    "    (376, 'Israel', 'ISR'),\n",
    "    (643, 'Russia', 'RUS'),\n",
    "    (233, 'Estonia', 'EST'),\n",
    "    (442, 'Luxembourg', 'LUX')]\n",
    "\n",
    "    df_iso_extra = pd.DataFrame(data=extra_countries, columns=['code', 'country', 'iso_alpha'])\n",
    "    df_iso_extra = df_iso_extra.set_index('code')\n",
    "    \n",
    "    df_iso = df_iso.append(df_iso_extra)\n",
    "    \n",
    "    df_iso.to_csv(iso_local_path)"
   ]
  },
  {
   "cell_type": "markdown",
   "metadata": {},
   "source": [
    "Let's have a look at the ISO code dataset."
   ]
  },
  {
   "cell_type": "code",
   "execution_count": 14,
   "metadata": {
    "ExecuteTime": {
     "end_time": "2020-03-28T15:42:43.942186Z",
     "start_time": "2020-03-28T15:42:43.932425Z"
    }
   },
   "outputs": [
    {
     "data": {
      "text/html": [
       "<div>\n",
       "<style scoped>\n",
       "    .dataframe tbody tr th:only-of-type {\n",
       "        vertical-align: middle;\n",
       "    }\n",
       "\n",
       "    .dataframe tbody tr th {\n",
       "        vertical-align: top;\n",
       "    }\n",
       "\n",
       "    .dataframe thead th {\n",
       "        text-align: right;\n",
       "    }\n",
       "</style>\n",
       "<table border=\"1\" class=\"dataframe\">\n",
       "  <thead>\n",
       "    <tr style=\"text-align: right;\">\n",
       "      <th></th>\n",
       "      <th>code</th>\n",
       "      <th>country</th>\n",
       "      <th>iso_alpha</th>\n",
       "    </tr>\n",
       "  </thead>\n",
       "  <tbody>\n",
       "    <tr>\n",
       "      <th>0</th>\n",
       "      <td>11</td>\n",
       "      <td>Afghanistan</td>\n",
       "      <td>AFG</td>\n",
       "    </tr>\n",
       "    <tr>\n",
       "      <th>1</th>\n",
       "      <td>23</td>\n",
       "      <td>Albania</td>\n",
       "      <td>ALB</td>\n",
       "    </tr>\n",
       "    <tr>\n",
       "      <th>2</th>\n",
       "      <td>35</td>\n",
       "      <td>Algeria</td>\n",
       "      <td>DZA</td>\n",
       "    </tr>\n",
       "    <tr>\n",
       "      <th>3</th>\n",
       "      <td>47</td>\n",
       "      <td>Angola</td>\n",
       "      <td>AGO</td>\n",
       "    </tr>\n",
       "    <tr>\n",
       "      <th>4</th>\n",
       "      <td>59</td>\n",
       "      <td>Argentina</td>\n",
       "      <td>ARG</td>\n",
       "    </tr>\n",
       "  </tbody>\n",
       "</table>\n",
       "</div>"
      ],
      "text/plain": [
       "   code      country iso_alpha\n",
       "0    11  Afghanistan       AFG\n",
       "1    23      Albania       ALB\n",
       "2    35      Algeria       DZA\n",
       "3    47       Angola       AGO\n",
       "4    59    Argentina       ARG"
      ]
     },
     "execution_count": 14,
     "metadata": {},
     "output_type": "execute_result"
    }
   ],
   "source": [
    "df_iso.head(5)"
   ]
  },
  {
   "cell_type": "markdown",
   "metadata": {},
   "source": [
    "We can replace the OECD ISO codes in the columns with the country names (with exceptions), so both datasets have matching names."
   ]
  },
  {
   "cell_type": "code",
   "execution_count": 15,
   "metadata": {
    "ExecuteTime": {
     "end_time": "2020-03-28T15:42:43.974392Z",
     "start_time": "2020-03-28T15:42:43.943161Z"
    }
   },
   "outputs": [],
   "source": [
    "lst = []\n",
    "\n",
    "for col in oecd_pop_df.columns:\n",
    "    try:\n",
    "        col = df_iso['country'][df_iso['iso_alpha'] == col].values[0]\n",
    "    except:\n",
    "        pass\n",
    "    \n",
    "    lst.append(col)\n",
    "\n",
    "oecd_pop_df.columns = lst"
   ]
  },
  {
   "cell_type": "markdown",
   "metadata": {},
   "source": [
    "We see we have relabelled the countries and also remove EU28 and OECD, given the coronavirus dataset doesn't have this data for aggregated grouping of countries."
   ]
  },
  {
   "cell_type": "code",
   "execution_count": 16,
   "metadata": {
    "ExecuteTime": {
     "end_time": "2020-03-28T15:42:43.982201Z",
     "start_time": "2020-03-28T15:42:43.975368Z"
    }
   },
   "outputs": [
    {
     "data": {
      "text/plain": [
       "Index(['Australia', 'Austria', 'Belgium', 'Canada', 'Czechia', 'Denmark',\n",
       "       'Finland', 'France', 'Germany', 'Hungary', 'Iceland', 'Ireland',\n",
       "       'Italy', 'Japan', 'Korea, South', 'Luxembourg', 'Mexico', 'Netherlands',\n",
       "       'New Zealand', 'Norway', 'Poland', 'Portugal', 'Slovakia', 'Spain',\n",
       "       'Sweden', 'Switzerland', 'Turkey', 'United Kingdom', 'United States',\n",
       "       'Brazil', 'Chile', 'Colombia', 'Estonia', 'Israel', 'Russia',\n",
       "       'Slovenia', 'China', 'India', 'Indonesia', 'South Africa'],\n",
       "      dtype='object')"
      ]
     },
     "execution_count": 16,
     "metadata": {},
     "output_type": "execute_result"
    }
   ],
   "source": [
    "excluded_countries = ['EU28', 'OECD']\n",
    "oecd_countries = [x for x in oecd_pop_df.columns if x not in excluded_countries]\n",
    "oecd_pop_df = oecd_pop_df[oecd_countries]\n",
    "\n",
    "oecd_pop_df.columns"
   ]
  },
  {
   "cell_type": "markdown",
   "metadata": {},
   "source": [
    "Our dataset now only has the population values. One slight complication is that currency codes do not match our earlier datasets. The population of Italy is 60 million, whereas for China it is 1385 million. Admittedly this might be an simplistic comparison, given that most of the cases in China were in a specific area Hubei, which has a population of 58.5 million (from https://en.wikipedia.org/wiki/Hubei). Also for Italy most of the cases at the start of the episode have been in Northern Italy."
   ]
  },
  {
   "cell_type": "code",
   "execution_count": 17,
   "metadata": {
    "ExecuteTime": {
     "end_time": "2020-03-28T15:42:43.994971Z",
     "start_time": "2020-03-28T15:42:43.983177Z"
    }
   },
   "outputs": [
    {
     "data": {
      "text/html": [
       "<div>\n",
       "<style scoped>\n",
       "    .dataframe tbody tr th:only-of-type {\n",
       "        vertical-align: middle;\n",
       "    }\n",
       "\n",
       "    .dataframe tbody tr th {\n",
       "        vertical-align: top;\n",
       "    }\n",
       "\n",
       "    .dataframe thead th {\n",
       "        text-align: right;\n",
       "    }\n",
       "</style>\n",
       "<table border=\"1\" class=\"dataframe\">\n",
       "  <thead>\n",
       "    <tr style=\"text-align: right;\">\n",
       "      <th></th>\n",
       "      <th>Italy</th>\n",
       "      <th>China</th>\n",
       "    </tr>\n",
       "  </thead>\n",
       "  <tbody>\n",
       "    <tr>\n",
       "      <th>Population</th>\n",
       "      <td>60.22473</td>\n",
       "      <td>1385.567</td>\n",
       "    </tr>\n",
       "  </tbody>\n",
       "</table>\n",
       "</div>"
      ],
      "text/plain": [
       "               Italy     China\n",
       "Population  60.22473  1385.567"
      ]
     },
     "execution_count": 17,
     "metadata": {},
     "output_type": "execute_result"
    }
   ],
   "source": [
    "oecd_pop_df[['Italy', 'China']]"
   ]
  },
  {
   "cell_type": "markdown",
   "metadata": {},
   "source": [
    "Let's create a copy of the confirmed data and we'll then normalize the values by population for OECD countries where we have population data."
   ]
  },
  {
   "cell_type": "code",
   "execution_count": 18,
   "metadata": {
    "ExecuteTime": {
     "end_time": "2020-03-28T15:42:44.011167Z",
     "start_time": "2020-03-28T15:42:43.995947Z"
    }
   },
   "outputs": [],
   "source": [
    "def normalize_data_by_pop(df, pop_df, label, countries_to_normalize):\n",
    "\n",
    "    df = df.copy()\n",
    "\n",
    "    for x in countries_to_normalize:\n",
    "        df[x + ' ' + label] = df[x + ' ' + label].values / pop_df[x].values[0]\n",
    "        \n",
    "        \n",
    "    return df\n",
    "        \n",
    "df_confirmed_oecd_normalized = normalize_data_by_pop(df_confirmed_agg, oecd_pop_df, 'confirmed', oecd_countries)\n",
    "df_deaths_oecd_normalized = normalize_data_by_pop(df_deaths_agg, oecd_pop_df, 'deaths', oecd_countries)"
   ]
  },
  {
   "cell_type": "markdown",
   "metadata": {},
   "source": [
    "If we plot the normalized figure, the number of confirmed cases looks worse in Italy compared to China."
   ]
  },
  {
   "cell_type": "code",
   "execution_count": 19,
   "metadata": {
    "ExecuteTime": {
     "end_time": "2020-03-28T15:42:44.378481Z",
     "start_time": "2020-03-28T15:42:44.012143Z"
    }
   },
   "outputs": [
    {
     "data": {
      "image/png": "[encoded data removed]",
      "text/plain": [
       "<Figure size 432x288 with 1 Axes>"
      ]
     },
     "metadata": {
      "needs_background": "light"
     },
     "output_type": "display_data"
    }
   ],
   "source": [
    "ax = df_confirmed_oecd_normalized[['Italy confirmed', 'China confirmed']].plot()\n",
    "ax.set_ylabel(\"Confirmed cases/Total population (millions)\");"
   ]
  },
  {
   "cell_type": "markdown",
   "metadata": {},
   "source": [
    "Let's compare the total number of confirmed cases in Italy and the United Kingdom, which have relatively similar population levels. In this case we have shifted the UK values by 2 weeks. Thus far it seems as though the UK's confirmed cases is following the same pattern as Italy."
   ]
  },
  {
   "cell_type": "code",
   "execution_count": 20,
   "metadata": {
    "ExecuteTime": {
     "end_time": "2020-03-28T15:42:44.742145Z",
     "start_time": "2020-03-28T15:42:44.379468Z"
    }
   },
   "outputs": [
    {
     "data": {
      "image/png": "[encoded data removed]",
      "text/plain": [
       "<Figure size 432x288 with 1 Axes>"
      ]
     },
     "metadata": {
      "needs_background": "light"
     },
     "output_type": "display_data"
    }
   ],
   "source": [
    "df_confirmed_agg_lag = df_confirmed_agg.copy()\n",
    "\n",
    "df_confirmed_agg_lag['United Kingdom confirmed (shifted 14 days)'] = df_confirmed_agg_lag['United Kingdom confirmed'].shift(-14)\n",
    "ax = df_confirmed_agg_lag[['Italy confirmed', 'United Kingdom confirmed (shifted 14 days)']].plot()\n",
    "ax.set_ylabel(\"Confirmed cases\");"
   ]
  },
  {
   "cell_type": "markdown",
   "metadata": {},
   "source": [
    "Let's combine the confirmed cases with the deaths data, so we can compare the data."
   ]
  },
  {
   "cell_type": "code",
   "execution_count": 21,
   "metadata": {
    "ExecuteTime": {
     "end_time": "2020-03-28T15:42:44.748001Z",
     "start_time": "2020-03-28T15:42:44.743120Z"
    }
   },
   "outputs": [],
   "source": [
    "df_confirmed_deaths_df = df_confirmed_agg.join(df_deaths_agg)"
   ]
  },
  {
   "cell_type": "markdown",
   "metadata": {},
   "source": [
    "Let's plot it for Italy."
   ]
  },
  {
   "cell_type": "code",
   "execution_count": 22,
   "metadata": {
    "ExecuteTime": {
     "end_time": "2020-03-28T15:42:45.111032Z",
     "start_time": "2020-03-28T15:42:44.748976Z"
    }
   },
   "outputs": [
    {
     "data": {
      "image/png": "[encoded data removed]",
      "text/plain": [
       "<Figure size 432x288 with 1 Axes>"
      ]
     },
     "metadata": {
      "needs_background": "light"
     },
     "output_type": "display_data"
    }
   ],
   "source": [
    "ax = df_confirmed_deaths_df[['Italy confirmed', 'Italy deaths']].plot()"
   ]
  },
  {
   "cell_type": "markdown",
   "metadata": {},
   "source": [
    "## Adjusting confirmed cases by deaths\n",
    "\n",
    "Next, we want to calculate the number of confirmed/death percentage. Note, for a large part of the sample this will be undefined for Italy (when there were no confirmed cases or deaths, which we shall label as zero)."
   ]
  },
  {
   "cell_type": "code",
   "execution_count": 23,
   "metadata": {
    "ExecuteTime": {
     "end_time": "2020-03-28T15:42:45.124696Z",
     "start_time": "2020-03-28T15:42:45.113959Z"
    }
   },
   "outputs": [
    {
     "name": "stderr",
     "output_type": "stream",
     "text": [
      "C:\\Anaconda3\\envs\\py36\\lib\\site-packages\\ipykernel_launcher.py:5: RuntimeWarning:\n",
      "\n",
      "invalid value encountered in true_divide\n",
      "\n"
     ]
    }
   ],
   "source": [
    "countries_confirmed = [x + ' confirmed' for x in countries]\n",
    "countries_deaths = [x + ' deaths' for x in countries]\n",
    "countries_ratio = [x + ' deaths/confirmed' for x in countries]\n",
    "\n",
    "perc = 100.0 * (df_deaths_agg[countries_deaths].values / df_confirmed_agg[countries_confirmed].values)\n",
    "\n",
    "df_deaths_confirmed_perc = pd.DataFrame(index=df_deaths_agg.index, data=perc, columns=countries_ratio)\n",
    "df_deaths_confirmed_perc = df_deaths_confirmed_perc.fillna(0) "
   ]
  },
  {
   "cell_type": "markdown",
   "metadata": {},
   "source": [
    "We can plot the percentages for China and Italy. For China it's been between 2-4%, although it appears higher in some sections of the time series in Italy. One reason can also be the number of tests conducted versus the overall population. As of March 3, 2020, [WHO reported](https://www.who.int/dg/speeches/detail/who-director-general-s-opening-remarks-at-the-media-briefing-on-covid-19---3-march-2020) a figure of 3.4% globally."
   ]
  },
  {
   "cell_type": "code",
   "execution_count": 24,
   "metadata": {
    "ExecuteTime": {
     "end_time": "2020-03-28T15:42:45.476960Z",
     "start_time": "2020-03-28T15:42:45.125672Z"
    }
   },
   "outputs": [
    {
     "data": {
      "image/png": "[encoded data removed]",
      "text/plain": [
       "<Figure size 432x288 with 1 Axes>"
      ]
     },
     "metadata": {
      "needs_background": "light"
     },
     "output_type": "display_data"
    }
   ],
   "source": [
    "ax = df_deaths_confirmed_perc[['Italy deaths/confirmed', 'China deaths/confirmed']].plot()\n",
    "ax.set_xlabel('Deaths/confirmed percentage');"
   ]
  },
  {
   "cell_type": "markdown",
   "metadata": {},
   "source": [
    "Let's take the last available date for values, and then convert our DataFrame into tidy format (see https://cfss.uchicago.edu/notes/tidy-data/ for a description), which can be utilised more easily by certain Python libraries."
   ]
  },
  {
   "cell_type": "code",
   "execution_count": 25,
   "metadata": {
    "ExecuteTime": {
     "end_time": "2020-03-28T15:42:45.487695Z",
     "start_time": "2020-03-28T15:42:45.477941Z"
    }
   },
   "outputs": [],
   "source": [
    "df_deaths_confirmed_perc_tidy = df_deaths_confirmed_perc.tail(1)\n",
    "df_deaths_confirmed_perc_tidy.columns = [x.replace(' deaths/confirmed', '') for x in df_deaths_confirmed_perc_tidy.columns]\n",
    "df_deaths_confirmed_perc_tidy = df_deaths_confirmed_perc_tidy.melt()\n",
    "df_deaths_confirmed_perc_tidy.columns = ['country', 'deaths/confirmed perc']\n",
    "\n",
    "import numpy as np\n",
    "df_deaths_confirmed_perc_tidy = df_deaths_confirmed_perc_tidy.replace(0, np.nan)"
   ]
  },
  {
   "cell_type": "markdown",
   "metadata": {},
   "source": [
    "Let's display the tidy DataFrame."
   ]
  },
  {
   "cell_type": "code",
   "execution_count": 26,
   "metadata": {
    "ExecuteTime": {
     "end_time": "2020-03-28T15:42:45.497059Z",
     "start_time": "2020-03-28T15:42:45.488672Z"
    }
   },
   "outputs": [
    {
     "data": {
      "text/html": [
       "<div>\n",
       "<style scoped>\n",
       "    .dataframe tbody tr th:only-of-type {\n",
       "        vertical-align: middle;\n",
       "    }\n",
       "\n",
       "    .dataframe tbody tr th {\n",
       "        vertical-align: top;\n",
       "    }\n",
       "\n",
       "    .dataframe thead th {\n",
       "        text-align: right;\n",
       "    }\n",
       "</style>\n",
       "<table border=\"1\" class=\"dataframe\">\n",
       "  <thead>\n",
       "    <tr style=\"text-align: right;\">\n",
       "      <th></th>\n",
       "      <th>country</th>\n",
       "      <th>deaths/confirmed perc</th>\n",
       "    </tr>\n",
       "  </thead>\n",
       "  <tbody>\n",
       "    <tr>\n",
       "      <th>0</th>\n",
       "      <td>Afghanistan</td>\n",
       "      <td>3.636364</td>\n",
       "    </tr>\n",
       "    <tr>\n",
       "      <th>1</th>\n",
       "      <td>Albania</td>\n",
       "      <td>4.301075</td>\n",
       "    </tr>\n",
       "    <tr>\n",
       "      <th>2</th>\n",
       "      <td>Algeria</td>\n",
       "      <td>6.356968</td>\n",
       "    </tr>\n",
       "    <tr>\n",
       "      <th>3</th>\n",
       "      <td>Andorra</td>\n",
       "      <td>1.123596</td>\n",
       "    </tr>\n",
       "    <tr>\n",
       "      <th>4</th>\n",
       "      <td>Angola</td>\n",
       "      <td>NaN</td>\n",
       "    </tr>\n",
       "  </tbody>\n",
       "</table>\n",
       "</div>"
      ],
      "text/plain": [
       "       country  deaths/confirmed perc\n",
       "0  Afghanistan               3.636364\n",
       "1      Albania               4.301075\n",
       "2      Algeria               6.356968\n",
       "3      Andorra               1.123596\n",
       "4       Angola                    NaN"
      ]
     },
     "execution_count": 26,
     "metadata": {},
     "output_type": "execute_result"
    }
   ],
   "source": [
    "df_deaths_confirmed_perc_tidy.head(5)"
   ]
  },
  {
   "cell_type": "markdown",
   "metadata": {
    "ExecuteTime": {
     "end_time": "2020-03-12T16:22:09.366797Z",
     "start_time": "2020-03-12T16:22:09.341864Z"
    }
   },
   "source": [
    "## Plotting cases on a world map\n",
    "\n",
    "We can now plot it using plotly express to create a world map using the death/confirmed ratio. But before we do that, we need to get the iso_codes for each country, which we got earlier from plotly express's in built gapminder datasets."
   ]
  },
  {
   "cell_type": "code",
   "execution_count": 27,
   "metadata": {
    "ExecuteTime": {
     "end_time": "2020-03-28T15:42:45.506853Z",
     "start_time": "2020-03-28T15:42:45.498041Z"
    }
   },
   "outputs": [],
   "source": [
    "import plotly.express as px\n",
    "\n",
    "df_deaths_confirmed_perc_tidy = df_deaths_confirmed_perc_tidy.merge(df_iso, on='country')"
   ]
  },
  {
   "cell_type": "markdown",
   "metadata": {},
   "source": [
    "We now have a DataFrame with the additional iso_alpha column."
   ]
  },
  {
   "cell_type": "code",
   "execution_count": 28,
   "metadata": {
    "ExecuteTime": {
     "end_time": "2020-03-28T15:42:45.521112Z",
     "start_time": "2020-03-28T15:42:45.507817Z"
    }
   },
   "outputs": [
    {
     "data": {
      "text/html": [
       "<div>\n",
       "<style scoped>\n",
       "    .dataframe tbody tr th:only-of-type {\n",
       "        vertical-align: middle;\n",
       "    }\n",
       "\n",
       "    .dataframe tbody tr th {\n",
       "        vertical-align: top;\n",
       "    }\n",
       "\n",
       "    .dataframe thead th {\n",
       "        text-align: right;\n",
       "    }\n",
       "</style>\n",
       "<table border=\"1\" class=\"dataframe\">\n",
       "  <thead>\n",
       "    <tr style=\"text-align: right;\">\n",
       "      <th></th>\n",
       "      <th>country</th>\n",
       "      <th>deaths/confirmed perc</th>\n",
       "      <th>code</th>\n",
       "      <th>iso_alpha</th>\n",
       "    </tr>\n",
       "  </thead>\n",
       "  <tbody>\n",
       "    <tr>\n",
       "      <th>0</th>\n",
       "      <td>Afghanistan</td>\n",
       "      <td>3.636364</td>\n",
       "      <td>11</td>\n",
       "      <td>AFG</td>\n",
       "    </tr>\n",
       "    <tr>\n",
       "      <th>1</th>\n",
       "      <td>Albania</td>\n",
       "      <td>4.301075</td>\n",
       "      <td>23</td>\n",
       "      <td>ALB</td>\n",
       "    </tr>\n",
       "    <tr>\n",
       "      <th>2</th>\n",
       "      <td>Algeria</td>\n",
       "      <td>6.356968</td>\n",
       "      <td>35</td>\n",
       "      <td>DZA</td>\n",
       "    </tr>\n",
       "    <tr>\n",
       "      <th>3</th>\n",
       "      <td>Angola</td>\n",
       "      <td>NaN</td>\n",
       "      <td>47</td>\n",
       "      <td>AGO</td>\n",
       "    </tr>\n",
       "    <tr>\n",
       "      <th>4</th>\n",
       "      <td>Argentina</td>\n",
       "      <td>2.207131</td>\n",
       "      <td>59</td>\n",
       "      <td>ARG</td>\n",
       "    </tr>\n",
       "  </tbody>\n",
       "</table>\n",
       "</div>"
      ],
      "text/plain": [
       "       country  deaths/confirmed perc  code iso_alpha\n",
       "0  Afghanistan               3.636364    11       AFG\n",
       "1      Albania               4.301075    23       ALB\n",
       "2      Algeria               6.356968    35       DZA\n",
       "3       Angola                    NaN    47       AGO\n",
       "4    Argentina               2.207131    59       ARG"
      ]
     },
     "execution_count": 28,
     "metadata": {},
     "output_type": "execute_result"
    }
   ],
   "source": [
    "df_deaths_confirmed_perc_tidy.head(5)"
   ]
  },
  {
   "cell_type": "markdown",
   "metadata": {},
   "source": [
    "We can plot a world map of the death/confirmed percentages. Some might seem very high, because of a very small number of deaths and confirmed cases. Also have a look at https://covidlive.co.uk/ which has a live updated map for UK cases."
   ]
  },
  {
   "cell_type": "code",
   "execution_count": 29,
   "metadata": {
    "ExecuteTime": {
     "end_time": "2020-03-28T15:42:50.604670Z",
     "start_time": "2020-03-28T15:42:45.522088Z"
    }
   },
   "outputs": [
    {
     "data": {
      "image/png": "[encoded data removed]"
     },
     "metadata": {},
     "output_type": "display_data"
    }
   ],
   "source": [
    "import plotly.io as pio\n",
    "# pio.renderers.default = \"notebook\" # make plots interactive (but will disappear when reopening notebook!)\n",
    "pio.renderers.default = \"png\" # static images\n",
    "\n",
    "fig = px.choropleth(df_deaths_confirmed_perc_tidy, locations=\"iso_alpha\",\n",
    "                    color=\"deaths/confirmed perc\", \n",
    "                    hover_name=\"country\",\n",
    "                    color_continuous_scale=px.colors.sequential.Plasma)\n",
    "\n",
    "fig.show()"
   ]
  },
  {
   "cell_type": "markdown",
   "metadata": {},
   "source": [
    "## Adjusting timelines by lags\n",
    "\n",
    "Earlier, we showed some plots of UK and Italy, where the UK was lagged by 14 days, to take into account the relative starts of the outbreaks. Can we do this in a systematic way, rather than arbitrarily trying to pick a lag. One way to do this is to reindex our data, so that the timeline is automically shifted. The [FT](https://www.ft.com/coronavirus-latest) has produced some excellent visualisations based on shifts related to:\n",
    "\n",
    "* confirmed cases are lagged by the number of days since 100th confirmed case related to the coronavirus\n",
    "* deaths are lagged by the number of days since 10th death related to the coronavirus\n",
    "\n",
    "We'll copy the same approach used by the FT, and other analysis based on this dataset. (Thanks Ewan Kirk for contributing to this!)"
   ]
  },
  {
   "cell_type": "code",
   "execution_count": 30,
   "metadata": {
    "ExecuteTime": {
     "end_time": "2020-03-28T15:42:51.100309Z",
     "start_time": "2020-03-28T15:42:50.605646Z"
    }
   },
   "outputs": [],
   "source": [
    "def timeline_lag(df, rate): \n",
    "\n",
    "    df = df.copy()\n",
    "    \n",
    "    # Lag each column so it starts with the rate\n",
    "    for col in df.columns.values:\n",
    "        try:\n",
    "            shift = df.index.get_loc(df[df[col] > rate].index[0])\n",
    "        except IndexError:\n",
    "            shift = df_confirmed.shape[0]\n",
    "\n",
    "        df[col] = df[col].shift(-1*shift)\n",
    "    \n",
    "    df['NumDays'] = range(0, df.shape[0])\n",
    "    df.set_index('NumDays', inplace=True)\n",
    "        \n",
    "    return df\n",
    "\n",
    "df_confirmed_agg_lag_ft = timeline_lag(df_confirmed_agg, 100)\n",
    "df_deaths_agg_lag_ft = timeline_lag(df_deaths_agg, 10)\n",
    "\n",
    "df_confirmed_oecd_normalized_lag_ft = timeline_lag(df_confirmed_agg, 100)\n",
    "df_deaths_oecd_normalized_lag_ft = timeline_lag(df_deaths_agg, 10)"
   ]
  },
  {
   "cell_type": "markdown",
   "metadata": {},
   "source": [
    "Let's now plot the lagged time series by days since 100th confirmed case for a few countries."
   ]
  },
  {
   "cell_type": "code",
   "execution_count": 31,
   "metadata": {
    "ExecuteTime": {
     "end_time": "2020-03-28T15:42:51.270309Z",
     "start_time": "2020-03-28T15:42:51.102243Z"
    }
   },
   "outputs": [
    {
     "data": {
      "image/png": "[encoded data removed]",
      "text/plain": [
       "<Figure size 432x288 with 1 Axes>"
      ]
     },
     "metadata": {
      "needs_background": "light"
     },
     "output_type": "display_data"
    }
   ],
   "source": [
    "countries_to_plot = ['Italy', 'United States', 'China', 'United Kingdom', 'Spain', 'France']\n",
    "\n",
    "ax = df_confirmed_agg_lag_ft[[x + ' confirmed' for x in countries_to_plot]].plot()\n",
    "ax.set_ylabel(\"Confirmed cases\");\n",
    "ax.set_xlabel(\"Days since 100th confirmed case\");"
   ]
  },
  {
   "cell_type": "markdown",
   "metadata": {},
   "source": [
    "## Interactive plots"
   ]
  },
  {
   "cell_type": "markdown",
   "metadata": {},
   "source": [
    "We have created several DataFrame earlier, which should still be in memory, that are described below.\n",
    "\n",
    "*  df_confirmed_agg - aggregated and rotated confirmed cases data\n",
    "*  df_deaths_agg - aggregated and rotated deaths data\n",
    "*  df_confirmed_oecd_normalized - normalised (by pop) confirmed cases data\n",
    "*  df_deaths_oecd_normalized - normalised (by pop) deaths data"
   ]
  },
  {
   "cell_type": "markdown",
   "metadata": {
    "ExecuteTime": {
     "end_time": "2020-03-28T15:12:59.725956Z",
     "start_time": "2020-03-28T15:12:59.704443Z"
    }
   },
   "source": [
    "We need to remove the `confirmed` and `deaths` labels from the columns to make them easier to plot interactively."
   ]
  },
  {
   "cell_type": "code",
   "execution_count": 32,
   "metadata": {
    "ExecuteTime": {
     "end_time": "2020-03-28T15:42:51.278117Z",
     "start_time": "2020-03-28T15:42:51.271285Z"
    }
   },
   "outputs": [],
   "source": [
    "def remove_label(df, label):\n",
    "    df = df.copy()\n",
    "    df.columns = [x.replace(' ' + label, '') for x in df.columns]\n",
    "    \n",
    "    return df\n",
    "\n",
    "df_confirmed_agg_unlab = remove_label(df_confirmed_agg, 'confirmed')\n",
    "df_deaths_agg_unlab = remove_label(df_deaths_agg, 'deaths')\n",
    "df_confirmed_oecd_normalized_unlab = remove_label(df_confirmed_oecd_normalized, 'confirmed')\n",
    "df_deaths_oecd_normalized_unlab = remove_label(df_deaths_oecd_normalized, 'deaths')"
   ]
  },
  {
   "cell_type": "code",
   "execution_count": 33,
   "metadata": {
    "ExecuteTime": {
     "end_time": "2020-03-28T15:42:51.285925Z",
     "start_time": "2020-03-28T15:42:51.279093Z"
    }
   },
   "outputs": [
    {
     "data": {
      "text/plain": [
       "Index(['Afghanistan', 'Albania', 'Algeria', 'Andorra', 'Angola',\n",
       "       'Antigua and Barbuda', 'Argentina', 'Armenia', 'Australia', 'Austria',\n",
       "       ...\n",
       "       'United Arab Emirates', 'United Kingdom', 'United States', 'Uruguay',\n",
       "       'Uzbekistan', 'Venezuela', 'Vietnam', 'West Bank and Gaza', 'Zambia',\n",
       "       'Zimbabwe'],\n",
       "      dtype='object', length=176)"
      ]
     },
     "execution_count": 33,
     "metadata": {},
     "output_type": "execute_result"
    }
   ],
   "source": [
    "df_deaths_oecd_normalized_unlab.columns"
   ]
  },
  {
   "cell_type": "markdown",
   "metadata": {},
   "source": [
    "In our earlier examples, we created static charts using Matplotlib. However, what if you want to make them interactive, so users can select the countries to examine? We can do that using ipywidgets, which allow us to create interactive sliders, radio buttons etc. in a Jupyter Notebook. Every\n",
    "\n",
    "Thanks for Ewan Kirk for providing the code below for using ipywidgets."
   ]
  },
  {
   "cell_type": "code",
   "execution_count": 34,
   "metadata": {
    "ExecuteTime": {
     "end_time": "2020-03-28T15:42:51.382747Z",
     "start_time": "2020-03-28T15:42:51.286901Z"
    }
   },
   "outputs": [],
   "source": [
    "import ipywidgets\n",
    "import IPython\n",
    "\n",
    "def display_cv_graph():\n",
    "    ''' This is the function which does it all. I find using closures *very* helpful\n",
    "        in Jupyter notebook.  Closures for functions and data help to stop the name space\n",
    "        getting overwhelmed with junk and requiring cells to be executed in particular orders\n",
    "        I also try to keep (almost) every variable outside the closures as a very small set\n",
    "        of basic data variables.  And of course using UPPERCASE for defined constants\n",
    "    '''\n",
    "    def observer(values):\n",
    "        # Clear the output.  This causes the graph to flash annoyingly.  There's a way to fix this but\n",
    "        # it is pretty sophisticated so don't worry about it\n",
    "        IPython.display.clear_output()\n",
    "        \n",
    "        # Display the controls\n",
    "        IPython.display.display(controls)\n",
    "        \n",
    "        # Work out what to do\n",
    "        do_confirmed = data_set.value is 'Confirmed'\n",
    "        do_normalized = normalized.value is 'Yes'\n",
    "        do_shifted = shifted.value is 'Yes'\n",
    "        shift_limit = confirmed_shift.value if do_confirmed else deaths_shift.value\n",
    "        \n",
    "        if do_normalized:\n",
    "            raw = df_confirmed_oecd_normalized_unlab if do_confirmed else df_deaths_oecd_normalized_unlab\n",
    "        else:\n",
    "            raw = df_confirmed_agg_unlab if do_confirmed else df_deaths_agg_unlab\n",
    "            \n",
    "        original_raw = df_confirmed_agg_unlab if do_confirmed else df_deaths_agg_unlab\n",
    "            \n",
    "        # Make a copy of the raw data frame and shift it if necessary\n",
    "        df = raw.copy()\n",
    "        \n",
    "        # Do shift based on unnormalized data (otherwise units don't make sense)\n",
    "        if do_shifted:\n",
    "            for col in original_raw.columns.values:\n",
    "                try:\n",
    "                    shift = original_raw.index.get_loc(original_raw[original_raw[col] > shift_limit].index[0])\n",
    "                except IndexError:\n",
    "                    shift = original_raw.shape[0]\n",
    "                    \n",
    "                df[col] = raw[col].shift(-1 * shift)\n",
    "                \n",
    "            df['NumDays'] = range(0, df.shape[0])\n",
    "            df.set_index('NumDays', inplace=True)\n",
    "        \n",
    "        if do_normalized:\n",
    "            normalized_label = ' normalized by pop'\n",
    "        else:\n",
    "            normalized_label = ''\n",
    "            \n",
    "        # Setup the plot\n",
    "        ax = df[list(countries.value)].plot(figsize=FIGSIZE)\n",
    "        ax.set_ylabel(data_set.value + normalized_label)\n",
    "        ax.set_yscale(log_lin.value.lower())\n",
    "        if do_shifted:\n",
    "            ax.set_xlabel(\"Number of days since {} {}\".format(shift_limit, data_set.value))\n",
    "        # and we are done so this function just waits for the next change\n",
    "    \n",
    "    # Construct controls\n",
    "    log_lin = ipywidgets.RadioButtons(options=['linear', 'log'], description='Scale')\n",
    "    countries = ipywidgets.SelectMultiple(options=df_confirmed_agg_unlab.columns.values,\n",
    "                                          value=COUNTRIES, # Use the default countries\n",
    "                                          rows=10,\n",
    "                                          description='Countries')\n",
    "    deaths_shift = ipywidgets.IntSlider(value=10, min=0, max=500, step=10, description='Deaths',\n",
    "                                         continuous_update=False, orientation='vertical',\n",
    "                                         readout=True, readout_format='d')\n",
    "    confirmed_shift = ipywidgets.IntSlider(value=100, min=0, max=20000, step=100, description='Confirmed',\n",
    "                                         continuous_update=False, orientation='vertical',\n",
    "                                         readout=True, readout_format='d')\n",
    "    data_set = ipywidgets.RadioButtons(options=['Confirmed', 'Deaths'],\n",
    "                                      description='Data Set')\n",
    "    shifted = ipywidgets.RadioButtons(options=['No', 'Yes'],\n",
    "                                      description='Shifted')\n",
    "    normalized = ipywidgets.RadioButtons(options=['No', 'Yes'],\n",
    "                                      description='Normalized')\n",
    "    controls = ipywidgets.HBox([countries, \n",
    "                                ipywidgets.VBox([data_set,\n",
    "                                                 shifted,\n",
    "                                                 normalized]),\n",
    "                                log_lin,\n",
    "                                deaths_shift,\n",
    "                                confirmed_shift])\n",
    "    \n",
    "    # Make sure they're 'observed' for changes\n",
    "    for widget in [data_set, shifted, log_lin, normalized, countries, deaths_shift, confirmed_shift]:\n",
    "        widget.observe(observer, names='value')\n",
    "        \n",
    "    # Call the observer function to kick it all off\n",
    "    observer(None)"
   ]
  },
  {
   "cell_type": "markdown",
   "metadata": {},
   "source": [
    "Let's kick off the interactive widget and plot. Note, that we can change the default list of countries. We only have normalized data for those countries in the OECD (given our database for population data is only for OECD countries)."
   ]
  },
  {
   "cell_type": "code",
   "execution_count": 35,
   "metadata": {
    "ExecuteTime": {
     "end_time": "2020-03-28T15:42:51.874704Z",
     "start_time": "2020-03-28T15:42:51.384699Z"
    }
   },
   "outputs": [
    {
     "data": {
      "application/vnd.jupyter.widget-view+json": {
       "model_id": "6de293c8281a4fb982a6b839d0f1c9e9",
       "version_major": 2,
       "version_minor": 0
      },
      "text/plain": [
       "HBox(children=(SelectMultiple(description='Countries', index=(167, 82, 149, 63, 154, 168, 34), options=('Afgha…"
      ]
     },
     "metadata": {},
     "output_type": "display_data"
    },
    {
     "data": {
      "image/png": "[encoded data removed]",
      "text/plain": [
       "<Figure size 1152x720 with 1 Axes>"
      ]
     },
     "metadata": {
      "needs_background": "light"
     },
     "output_type": "display_data"
    }
   ],
   "source": [
    "# Pick a good fig size\n",
    "FIGSIZE=(16, 10)\n",
    "\n",
    "COUNTRIES = ['United Kingdom', 'Italy', 'Spain', 'Germany', 'Switzerland', 'United States', 'China']\n",
    "\n",
    "display_cv_graph()"
   ]
  },
  {
   "cell_type": "markdown",
   "metadata": {},
   "source": [
    "# Change log\n",
    "\n",
    "* 28 Mar 2020\n",
    "    * Added ipywidgets section\n",
    "* 25 Mar 2020 \n",
    "    * Updated to use new dataset location from https://github.com/CSSEGISandData/COVID-19/\n",
    "    * Improved ISO country code joining\n",
    "    * Added section on adjusting timelines\n",
    "* 12 Mar 2020\n",
    "    * First upload of coronavirus notebook"
   ]
  }
 ],
 "metadata": {
  "kernelspec": {
   "display_name": "Python 3",
   "language": "python",
   "name": "python3"
  },
  "language_info": {
   "codemirror_mode": {
    "name": "ipython",
    "version": 3
   },
   "file_extension": ".py",
   "mimetype": "text/x-python",
   "name": "python",
   "nbconvert_exporter": "python",
   "pygments_lexer": "ipython3",
   "version": "3.6.10"
  },
  "toc": {
   "base_numbering": 1,
   "nav_menu": {},
   "number_sections": true,
   "sideBar": true,
   "skip_h1_title": false,
   "title_cell": "Table of Contents",
   "title_sidebar": "Contents",
   "toc_cell": false,
   "toc_position": {},
   "toc_section_display": true,
   "toc_window_display": false
  }
 },
 "nbformat": 4,
 "nbformat_minor": 2
}
