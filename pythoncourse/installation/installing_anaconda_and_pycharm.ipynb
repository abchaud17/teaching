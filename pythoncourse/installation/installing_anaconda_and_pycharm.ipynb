{
 "cells": [
  {
   "cell_type": "markdown",
   "metadata": {
    "pycharm": {}
   },
   "source": [
    "# Installing Anaconda and PyCharm\n",
    "\n",
    "Saeed Amen - Copyright Cuemacro 2019 - https://www.cuemacro.com - saeed@cuemacro.com\n",
    "\n",
    "In this notebook, we discuss how to install the Anaconda distribution of Python and other applications you need to run do development in Python, which will be useful for doing financial analysis in Python with libraries like finmarketpy. You can also down a lot of this material from https://github.com/cuemacro/teaching - in particular the scripts for installing the conda environments. We'll also be installing a lot of other useful libraries for machine learning, natural language processing etc."
   ]
  },
  {
   "cell_type": "markdown",
   "metadata": {
    "pycharm": {}
   },
   "source": [
    "## Download and install Anaconda\n",
    "\n",
    "You can download install the Anaconda distribution for Python from https://www.anaconda.com/distribution \n",
    "\n",
    "There are versions of Anaconda for Windows, Linux and Mac operating systems.\n",
    "\n",
    "By default the Anaconda will be installed at the following folder, which will depend on your username. Make sure you keep a note of where you installed Anaconda for later, in particular when you need to tell Anaconda where you installed the distribution!\n",
    "\n",
    "* Windows: `C:\\Users\\<your-username>\\Anaconda3\\`\n",
    "* macOS: `/Users/<your-username>/anaconda3`\n",
    "* Linux: `/home/<your-username>/anaconda3`\n",
    "\n",
    "Anaconda comes with many data science focused Python libraries. However, we'll still need to install quite a few other extra ones. Also in some instances, we'll install a different versions of certain libraries (including an earlier one for Pandas)."
   ]
  },
  {
   "cell_type": "markdown",
   "metadata": {},
   "source": [
    "## Download and install Git\n",
    "\n",
    "Git is version control software, which is necessary to install some Python libraries we'll use. It's also worth understanding how to use version control if you want to code later! You can download and install Git for Windows, Linux and Mac operating systems from https://git-scm.com/downloads\n",
    "\n",
    "Note that for Linux, you can install from the command line but the syntax depends on your Linux distribution https://git-scm.com/download/linux discusses this in some detail.\n"
   ]
  },
  {
   "cell_type": "markdown",
   "metadata": {},
   "source": [
    "## GPU versions of TensorFlow and PyTorch\n",
    "\n",
    "If you want to use your GPU for certain operations in particular for PyTorch and TensorFlow, you may need to update your NVIDIA graphics driver. First check if you have a GPU accelerated graphics card which supports CUDA (usually most newer NVIDIA graphics cards). This means you can install GPU accelerated versions of machine libraries like TensorFlow and PyTorch. \n",
    "\n",
    "To do this, you need to manually install various CUDA libraries. For full details on how to install these see https://www.tensorflow.org/install/gpu (both for Windows and Linux). Once you've done that you can edit the scripts below where indicated, so the GPU enabled Python versions of PyTorch and TensorFlow are installed (rather than the CPU version). Note, the CPU versions work fine, but will be slower!"
   ]
  },
  {
   "cell_type": "markdown",
   "metadata": {},
   "source": [
    "## Install Bloomberg\n",
    "\n",
    "If you have access to a Bloomberg Terminal and are running Windows, it is recommended to install the blpapi library iun your Windows conda environment once it is setup. Full instructions are at https://github.com/cuemacro/findatapy/blob/master/BLOOMBERG.md. It requires several additional steps including the settings of paths in Windows."
   ]
  },
  {
   "cell_type": "markdown",
   "metadata": {
   },
   "source": [
    "## Installing a conda environment for Windows\n",
    "\n",
    "A conda environment is a separate version of Python, where you can install all your own Python environments.\n",
    "\n",
    "* Download \n",
    "* Open up Notepad\n",
    "* Copy the below text\n",
    "* Create a folder `C:\\pythoncourse` (or if you create it elsewhere, keep a note of that)\n",
    "* Save the file as `create_conda_env.bat` in the `C:\\pythoncourse` folder\n",
    "* Open up the Anaconda Prompt (should be in the Start Menu)\n",
    "* In this prompt, your Anaconda folder will on the path (ie. it will recognise where `conda` is installed etc.)\n",
    "* Type in\n",
    "    `cd\\`\n",
    "* This will change directory to the `C:\\` drive\n",
    "* Then run\n",
    "    `cd\\pythoncourse`\n",
    "* Then run\n",
    "    `create_conda_env.bat`\n",
    "* It will likely take a long time, and you might need to periodically click yes in Windows to allower the installer to change your settings.\n",
    "\n",
    "### Copy the below to create_conda_env.bat for Windows (or [download it](create_conda_env.bat))"
   ]
  },
  {
   "cell_type": "markdown",
   "metadata": {},
   "source": [
    "```\n",
    "REM assumes that Anaconda has already been downloaded\n",
    "\n",
    "REM update conda\n",
    "call conda update -n base -c defaults conda --yes\n",
    "\n",
    "REM remove any existing environment called py36, and create a py36 with anaconda packages\n",
    "REM call conda remove -n py36 --all\n",
    "call conda create -n py36 python=3.6 anaconda --yes\n",
    "call conda deactivate\n",
    "call conda activate py36\n",
    "\n",
    "REM newer versions of Pandas aren't supported as well by other libraries (eg. Arctic), so stick to 0.24.2\n",
    "call conda install -c anaconda pandas=0.24.2 --yes\n",
    "\n",
    "REM install from conda-forge\n",
    "call conda install -c conda-forge ^\n",
    "jupyterlab jupyter_contrib_nbextensions jupyter_nbextensions_configurator ^\n",
    "redis-py=3.3.7 python-blosc=1.8.1 pathos graphviz python-graphviz rise textblob wordcloud quandl ^\n",
    "spacy fastparquet python-snappy --yes\n",
    "\n",
    "call conda install -c conda-forge pystan fbprophet --yes\n",
    "\n",
    "REM install PyTorch\n",
    "REM only if you have GPU\n",
    "REM call conda install pytorch torchvision cudatoolkit=10.0 -c pytorch --yes\n",
    "call conda install pytorch torchvision cpuonly -c pytorch --yes\n",
    "\n",
    "REM Jupyter libraries\n",
    "call jupyter contrib nbextension install --user\n",
    "call jupyter nbextension enable execute_time/ExecuteTime\n",
    "call jupyter-nbextension install rise --py --sys-prefix\n",
    "\n",
    "call pip install arctic==1.79.2\n",
    "\n",
    "REM install tensorflow and transformers/huggingface\n",
    "REM only if you have GPU\n",
    "REM call pip install tensorflow-gpu transformers\n",
    "call pip install tensorflow transformers\n",
    "\n",
    "REM for findatapy\n",
    "call pip install fxcmpy alpha_vantage yfinance twython newspaper3k seasonal pdfminer.six vaderSentiment gensim textblob\n",
    "\n",
    "REM findatapy, chartpy and finmarketpy\n",
    "REM needs git\n",
    "call pip install git+https://github.com/cuemacro/finmarketpy.git git+https://github.com/cuemacro/chartpy.git git+https://github.com/cuemacro/findatapy.git\n",
    "\n",
    "REM graphics libraries\n",
    "call pip install cufflinks==0.17 plotly_express==0.4.1 dash==1.1.1 dash-html-components==1.0.0 dash-core-components==1.1.1 plotly==4.2.1 dash-table==4.1.0\n",
    "\n",
    "REM to be able to plot Plotly into PNG or JPG\n",
    "call conda install -c plotly plotly-orca --yes\n",
    "\n",
    "```\n"
   ]
  },
  {
   "cell_type": "markdown",
   "metadata": {
    "ExecuteTime": {
     "end_time": "2019-10-01T16:12:06.412884Z",
     "start_time": "2019-10-01T16:12:06.404503Z"
    }
   },
   "source": [
    "## Installing a conda environment for Linux and Mac\n",
    "\n",
    "A conda environment is a separate version of Python, where you can install all your own Python environments. For Linux \n",
    "and Mac, we'll install more libraries, which you might need to use later (some of which aren't fully supported by Windows).\n",
    "\n",
    "* Download \n",
    "* Open up a text editor\n",
    "* Copy the below text\n",
    "* Create a folder `/Users/<your-username>/pythoncourse` for Mac or `/home/<your-username>/pythoncourse` for Linux\n",
    "* Save the file as `create_conda_env.sh` in the pythoncourse folder\n",
    "* Open a Terminal window (usually a black window icon on both Linux and Mac)\n",
    "* Type in (or wherever you installed Anaconda) and press enter to run\n",
    "    * `cd /Users/<your-username>/anaconda3/bin` for Mac\n",
    "    * `cd /home/<your-username>/anaconda3/bin` for Linux\n",
    "* conda is in this folder\n",
    "* Note, conda might already be on your path - you can check this by typing `conda` and pressing enter, to see if you get an error. On Windows\n",
    "the installer will have a default option to add Anaconda to your path\n",
    "* On Linux/Mac, it is recommend to add the Anaconda folder to your path\n",
    "* You can temporarily add paths in Linux/Mac using the following command in the terminal (change the path to wherever you installed\n",
    "Anaconda)\n",
    "    * `export PATH=/Users/<your-username>/anaconda3/bin:$PATH` for Mac\n",
    "    * `export PATH=/home/<your-username>/anaconda3/bin:$PATH` for Linux\n",
    "* To permanently add folders to your path by editing a file like `.bashrc` which is in your home folder\n",
    "    * http://osxdaily.com/2015/07/28/set-enviornment-variables-mac-os-x/ for Mac\n",
    "    * https://opensource.com/article/17/6/set-path-linux for Linux\n",
    "* Then run\n",
    "    * `./Users/<your-username>/pythoncourse/create_conda_env.sh` for Mac\n",
    "    * `./home/<your-username>/pythoncourse/create_conda_env.sh` for Linux\n",
    "* It will likely take a long time, and you might need to periodically click yes also Windows to change settings\n",
    "\n",
    "### Copy the below to create_conda_env.sh (or [download it](create_conda_env.sh))"
   ]
  },
  {
   "cell_type": "markdown",
   "metadata": {
    "ExecuteTime": {
     "end_time": "2019-10-01T16:13:50.842110Z",
     "start_time": "2019-10-01T16:13:50.828861Z"
    },
    "pycharm": {}
   },
   "source": [
    "```\n",
    "#!/usr/bin/env bash\n",
    "\n",
    "# update conda\n",
    "conda update -n base -c defaults conda --yes\n",
    "\n",
    "# remove any existing environment called py36, and create a py36 with anaconda packages\n",
    "conda deactivate\n",
    "\n",
    "# conda remove -n py36 --all\n",
    "conda create -n py36 python=3.6 anaconda\n",
    "\n",
    "conda deactivate\n",
    "conda activate py36\n",
    "\n",
    "# newer versions of Pandas aren't supported as well by other libraries (eg. Arctic), so stick to 0.24.2\n",
    "conda install -c anaconda pandas=0.24.2 --yes\n",
    "\n",
    "# install from conda-forge (pyarrow is a newer version!)\n",
    "conda install -c conda-forge \\\n",
    "jupyterlab jupyter_contrib_nbextensions jupyter_nbextensions_configurator \\\n",
    "redis-py=3.3.7 python-blosc=1.8.1 pathos pyarrow=0.14.1 graphviz python-graphviz rise textblob wordcloud quandl \\\n",
    "vaex-core vaex-viz vaex-jupyter vaex-arrow vaex-server vaex-hdf5 vaex-astro vaex-distributed pyspark py4j spacy --yes\n",
    "\n",
    "# for database\n",
    "pip install arctic==1.79.2\n",
    "\n",
    "# install PyTorch\n",
    "# only if you have GPU\n",
    "# conda install pytorch torchvision cudatoolkit=10.0 -c pytorch --yes\n",
    "conda install pytorch torchvision cpuonly -c pytorch --yes\n",
    "\n",
    "jupyter contrib nbextension install --user # to activate js on Jupyter\n",
    "jupyter nbextension enable execute_time/ExecuteTime\n",
    "jupyter-nbextension install rise --py --sys-prefix\n",
    "\n",
    "# celery library\n",
    "pip install celery==4.3.0 celery[redis] celery[msgpack] msgpack-python\n",
    "\n",
    "# for findatapy\n",
    "pip install fxcmpy alpha_vantage yfinance twython newspaper3k seasonal pdfminer.six vaderSentiment vaderSentiment gensim textblob\n",
    "\n",
    "# install tensorflow and transformers/huggingface\n",
    "# only if you have GPU\n",
    "# pip install tensorflow-gpu transformers\n",
    "pip install tensorflow transformers\n",
    "\n",
    "# modin (downgrade pandas version)\n",
    "# may downgrade to pandas to 0.24.2\n",
    "pip install modin\n",
    "\n",
    "# findatapy, chartpy and finmarketpy (or can manually clone these from GitHub and add to your Python path)\n",
    "pip install git+https://github.com/cuemacro/finmarketpy.git git+https://github.com/cuemacro/chartpy.git git+https://github.com/cuemacro/findatapy.git\n",
    "\n",
    "# graphics libraries\n",
    "pip install cufflinks==0.17 plotly_express==0.4.1 dash==1.1.1 dash-html-components==1.0.0 dash-core-components==1.1.1 plotly==4.2.1 dash-table==4.1.0\n",
    "\n",
    "# to be able to plot Plotly into PNG or JPG\n",
    "conda install -c plotly plotly-orca --yes\n",
    "\n",
    "```"
   ]
  },
  {
   "cell_type": "markdown",
   "metadata": {
    "ExecuteTime": {
     "end_time": "2019-10-01T16:04:01.263522Z",
     "start_time": "2019-10-01T16:04:01.258640Z"
    }
   },
   "source": [
    "## Download and install PyCharm\n",
    "\n",
    "* You can download and install PyCharm Community from https://www.jetbrains.com/pycharm/download\n",
    "* There are versions for PyCharm for Windows, Linux and Mac operating systems.\n",
    "* PyCharm IDE makes it easier to write and run Python code\n",
    "* In File / Settings - you will likely need to set PyCharm to use your py36 environment, which is likely at the following locations\n",
    "    * Windows: `C:\\Users\\<your-username>\\Anaconda3\\envs\\py36`\n",
    "    * macOS: `/Users/<your-username>/anaconda3/envs/py36`\n",
    "    * Linux: `/home/<your-username>/anaconda3/envs/py36`\n",
    "* PyCharm will create a workspace for you, where you can place your code"
   ]
  }
 ],
 "metadata": {
  "kernelspec": {
   "display_name": "Python 3",
   "language": "python",
   "name": "python3"
  },
  "language_info": {
   "codemirror_mode": {
    "name": "ipython",
    "version": 3
   },
   "file_extension": ".py",
   "mimetype": "text/x-python",
   "name": "python",
   "nbconvert_exporter": "python",
   "pygments_lexer": "ipython3",
   "version": "3.6.9"
  },
  "latex_envs": {
   "LaTeX_envs_menu_present": true,
   "autoclose": false,
   "autocomplete": true,
   "bibliofile": "biblio.bib",
   "cite_by": "apalike",
   "current_citInitial": 1,
   "eqLabelWithNumbers": true,
   "eqNumInitial": 1,
   "hotkeys": {
    "equation": "Ctrl-E",
    "itemize": "Ctrl-I"
   },
   "labels_anchors": false,
   "latex_user_defs": false,
   "report_style_numbering": false,
   "user_envs_cfg": false
  },
  "pycharm": {
   "stem_cell": {
    "cell_type": "raw",
    "metadata": {
     "collapsed": false
    },
    "source": []
   }
  },
  "toc": {
   "base_numbering": 1,
   "nav_menu": {},
   "number_sections": true,
   "sideBar": true,
   "skip_h1_title": false,
   "title_cell": "Table of Contents",
   "title_sidebar": "Contents",
   "toc_cell": false,
   "toc_position": {},
   "toc_section_display": true,
   "toc_window_display": false
  }
 },
 "nbformat": 4,
 "nbformat_minor": 2
}
